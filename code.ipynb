{
 "cells": [
  {
   "cell_type": "code",
   "execution_count": 2,
   "metadata": {},
   "outputs": [],
   "source": [
    "import numpy as np\n",
    "import struct\n",
    "import matplotlib.pyplot as plt\n",
    "from scipy.spatial.distance import cdist\n",
    "import pandas as pd\n",
    "import seaborn as sns"
   ]
  },
  {
   "cell_type": "markdown",
   "metadata": {},
   "source": [
    "# Read in the Training Images/Labels"
   ]
  },
  {
   "cell_type": "code",
   "execution_count": 3,
   "metadata": {},
   "outputs": [],
   "source": [
    "def read_idx3(fp):\n",
    "    with open(fp, 'rb') as f:\n",
    "        magic_number, num_images, num_rows, num_cols = struct.unpack('>IIII', f.read(16))\n",
    "        images = np.frombuffer(f.read(), dtype=np.uint8)\n",
    "        images = images.reshape(num_images, num_rows, num_cols)\n",
    "        return images"
   ]
  },
  {
   "cell_type": "code",
   "execution_count": 4,
   "metadata": {},
   "outputs": [],
   "source": [
    "def read_idx1(fp):\n",
    "    with open(fp, 'rb') as f:\n",
    "        magic_number, num_labels = struct.unpack('>II', f.read(8))\n",
    "        labels = np.frombuffer(f.read(), dtype=np.uint8)\n",
    "        return labels"
   ]
  },
  {
   "cell_type": "code",
   "execution_count": 5,
   "metadata": {},
   "outputs": [
    {
     "data": {
      "text/plain": [
       "array([[[0., 0., 0., ..., 0., 0., 0.],\n",
       "        [0., 0., 0., ..., 0., 0., 0.],\n",
       "        [0., 0., 0., ..., 0., 0., 0.],\n",
       "        ...,\n",
       "        [0., 0., 0., ..., 0., 0., 0.],\n",
       "        [0., 0., 0., ..., 0., 0., 0.],\n",
       "        [0., 0., 0., ..., 0., 0., 0.]],\n",
       "\n",
       "       [[0., 0., 0., ..., 0., 0., 0.],\n",
       "        [0., 0., 0., ..., 0., 0., 0.],\n",
       "        [0., 0., 0., ..., 0., 0., 0.],\n",
       "        ...,\n",
       "        [0., 0., 0., ..., 0., 0., 0.],\n",
       "        [0., 0., 0., ..., 0., 0., 0.],\n",
       "        [0., 0., 0., ..., 0., 0., 0.]],\n",
       "\n",
       "       [[0., 0., 0., ..., 0., 0., 0.],\n",
       "        [0., 0., 0., ..., 0., 0., 0.],\n",
       "        [0., 0., 0., ..., 0., 0., 0.],\n",
       "        ...,\n",
       "        [0., 0., 0., ..., 0., 0., 0.],\n",
       "        [0., 0., 0., ..., 0., 0., 0.],\n",
       "        [0., 0., 0., ..., 0., 0., 0.]],\n",
       "\n",
       "       ...,\n",
       "\n",
       "       [[0., 0., 0., ..., 0., 0., 0.],\n",
       "        [0., 0., 0., ..., 0., 0., 0.],\n",
       "        [0., 0., 0., ..., 0., 0., 0.],\n",
       "        ...,\n",
       "        [0., 0., 0., ..., 0., 0., 0.],\n",
       "        [0., 0., 0., ..., 0., 0., 0.],\n",
       "        [0., 0., 0., ..., 0., 0., 0.]],\n",
       "\n",
       "       [[0., 0., 0., ..., 0., 0., 0.],\n",
       "        [0., 0., 0., ..., 0., 0., 0.],\n",
       "        [0., 0., 0., ..., 0., 0., 0.],\n",
       "        ...,\n",
       "        [0., 0., 0., ..., 0., 0., 0.],\n",
       "        [0., 0., 0., ..., 0., 0., 0.],\n",
       "        [0., 0., 0., ..., 0., 0., 0.]],\n",
       "\n",
       "       [[0., 0., 0., ..., 0., 0., 0.],\n",
       "        [0., 0., 0., ..., 0., 0., 0.],\n",
       "        [0., 0., 0., ..., 0., 0., 0.],\n",
       "        ...,\n",
       "        [0., 0., 0., ..., 0., 0., 0.],\n",
       "        [0., 0., 0., ..., 0., 0., 0.],\n",
       "        [0., 0., 0., ..., 0., 0., 0.]]])"
      ]
     },
     "execution_count": 5,
     "metadata": {},
     "output_type": "execute_result"
    }
   ],
   "source": [
    "train_images = read_idx3('data/train-images.idx3-ubyte')\n",
    "train_images = train_images.astype(np.float64)\n",
    "train_images"
   ]
  },
  {
   "cell_type": "code",
   "execution_count": 6,
   "metadata": {},
   "outputs": [
    {
     "data": {
      "text/plain": [
       "(60000, 28, 28)"
      ]
     },
     "execution_count": 6,
     "metadata": {},
     "output_type": "execute_result"
    }
   ],
   "source": [
    "train_images.shape"
   ]
  },
  {
   "cell_type": "code",
   "execution_count": 7,
   "metadata": {},
   "outputs": [
    {
     "data": {
      "text/plain": [
       "array([5, 0, 4, ..., 5, 6, 8])"
      ]
     },
     "execution_count": 7,
     "metadata": {},
     "output_type": "execute_result"
    }
   ],
   "source": [
    "train_labels = read_idx1('data/train-labels.idx1-ubyte')\n",
    "train_labels = train_labels.astype(int)\n",
    "train_labels"
   ]
  },
  {
   "cell_type": "code",
   "execution_count": 8,
   "metadata": {},
   "outputs": [
    {
     "data": {
      "image/png": "[encoded data removed]",
      "text/plain": [
       "<Figure size 640x480 with 1 Axes>"
      ]
     },
     "metadata": {},
     "output_type": "display_data"
    }
   ],
   "source": [
    "plt.imshow(train_images[2340], cmap='gray')\n",
    "plt.title(f'MNIST Image For: {train_labels[2340]}')\n",
    "plt.axis('off')\n",
    "plt.show()"
   ]
  },
  {
   "cell_type": "code",
   "execution_count": 9,
   "metadata": {},
   "outputs": [
    {
     "data": {
      "text/plain": [
       "array([[[0., 0., 0., ..., 0., 0., 0.],\n",
       "        [0., 0., 0., ..., 0., 0., 0.],\n",
       "        [0., 0., 0., ..., 0., 0., 0.],\n",
       "        ...,\n",
       "        [0., 0., 0., ..., 0., 0., 0.],\n",
       "        [0., 0., 0., ..., 0., 0., 0.],\n",
       "        [0., 0., 0., ..., 0., 0., 0.]],\n",
       "\n",
       "       [[0., 0., 0., ..., 0., 0., 0.],\n",
       "        [0., 0., 0., ..., 0., 0., 0.],\n",
       "        [0., 0., 0., ..., 0., 0., 0.],\n",
       "        ...,\n",
       "        [0., 0., 0., ..., 0., 0., 0.],\n",
       "        [0., 0., 0., ..., 0., 0., 0.],\n",
       "        [0., 0., 0., ..., 0., 0., 0.]],\n",
       "\n",
       "       [[0., 0., 0., ..., 0., 0., 0.],\n",
       "        [0., 0., 0., ..., 0., 0., 0.],\n",
       "        [0., 0., 0., ..., 0., 0., 0.],\n",
       "        ...,\n",
       "        [0., 0., 0., ..., 0., 0., 0.],\n",
       "        [0., 0., 0., ..., 0., 0., 0.],\n",
       "        [0., 0., 0., ..., 0., 0., 0.]],\n",
       "\n",
       "       ...,\n",
       "\n",
       "       [[0., 0., 0., ..., 0., 0., 0.],\n",
       "        [0., 0., 0., ..., 0., 0., 0.],\n",
       "        [0., 0., 0., ..., 0., 0., 0.],\n",
       "        ...,\n",
       "        [0., 0., 0., ..., 0., 0., 0.],\n",
       "        [0., 0., 0., ..., 0., 0., 0.],\n",
       "        [0., 0., 0., ..., 0., 0., 0.]],\n",
       "\n",
       "       [[0., 0., 0., ..., 0., 0., 0.],\n",
       "        [0., 0., 0., ..., 0., 0., 0.],\n",
       "        [0., 0., 0., ..., 0., 0., 0.],\n",
       "        ...,\n",
       "        [0., 0., 0., ..., 0., 0., 0.],\n",
       "        [0., 0., 0., ..., 0., 0., 0.],\n",
       "        [0., 0., 0., ..., 0., 0., 0.]],\n",
       "\n",
       "       [[0., 0., 0., ..., 0., 0., 0.],\n",
       "        [0., 0., 0., ..., 0., 0., 0.],\n",
       "        [0., 0., 0., ..., 0., 0., 0.],\n",
       "        ...,\n",
       "        [0., 0., 0., ..., 0., 0., 0.],\n",
       "        [0., 0., 0., ..., 0., 0., 0.],\n",
       "        [0., 0., 0., ..., 0., 0., 0.]]])"
      ]
     },
     "execution_count": 9,
     "metadata": {},
     "output_type": "execute_result"
    }
   ],
   "source": [
    "test_images = read_idx3('data/t10k-images.idx3-ubyte')\n",
    "test_images = test_images.astype(np.float64)\n",
    "test_images"
   ]
  },
  {
   "cell_type": "code",
   "execution_count": 10,
   "metadata": {},
   "outputs": [
    {
     "data": {
      "text/plain": [
       "(10000, 28, 28)"
      ]
     },
     "execution_count": 10,
     "metadata": {},
     "output_type": "execute_result"
    }
   ],
   "source": [
    "test_images.shape"
   ]
  },
  {
   "cell_type": "code",
   "execution_count": 11,
   "metadata": {},
   "outputs": [
    {
     "data": {
      "text/plain": [
       "array([7, 2, 1, ..., 4, 5, 6])"
      ]
     },
     "execution_count": 11,
     "metadata": {},
     "output_type": "execute_result"
    }
   ],
   "source": [
    "test_labels = read_idx1('data/t10k-labels.idx1-ubyte')\n",
    "test_labels = test_labels.astype(int)\n",
    "test_labels"
   ]
  },
  {
   "cell_type": "code",
   "execution_count": 12,
   "metadata": {},
   "outputs": [
    {
     "data": {
      "image/png": "[encoded data removed]",
      "text/plain": [
       "<Figure size 640x480 with 1 Axes>"
      ]
     },
     "metadata": {},
     "output_type": "display_data"
    }
   ],
   "source": [
    "plt.imshow(test_images[500], cmap='gray')\n",
    "plt.title(f'MNIST Image For: {test_labels[500]}')\n",
    "plt.axis('off')\n",
    "plt.show()"
   ]
  },
  {
   "cell_type": "markdown",
   "metadata": {},
   "source": [
    "# Data Prep"
   ]
  },
  {
   "cell_type": "code",
   "execution_count": 13,
   "metadata": {},
   "outputs": [],
   "source": [
    "num_subsets = np.array([10000, 5000, 1000])\n",
    "\n",
    "train_images_reshaped = train_images.reshape(train_images.shape[0], -1) / 255.0\n",
    "test_images_reshaped = test_images.reshape(test_images.shape[0], -1) / 255.0"
   ]
  },
  {
   "cell_type": "markdown",
   "metadata": {},
   "source": [
    "# Random Sampling"
   ]
  },
  {
   "cell_type": "code",
   "execution_count": null,
   "metadata": {},
   "outputs": [],
   "source": [
    "accuracy_dict = {}\n",
    "\n",
    "for j in range(3):\n",
    "    accuracy_scores = []\n",
    "\n",
    "    # Perform classification for different subset sizes\n",
    "    for k in num_subsets:\n",
    "\n",
    "        # Efficient subset selection using numpy random choice\n",
    "        train_subset = np.random.choice(train_images_reshaped.shape[0], size=k, replace=False)\n",
    "\n",
    "        # Select prototype images and labels\n",
    "        prototype_images = train_images_reshaped[train_subset]\n",
    "        prototype_labels = train_labels[train_subset]\n",
    "\n",
    "\n",
    "        # Compute distances between all test images and prototype images\n",
    "        distances = cdist(test_images_reshaped, prototype_images)\n",
    "\n",
    "        # Find the index of the nearest prototype for each test image\n",
    "        nearest_indices = np.argmin(distances, axis=1)\n",
    "\n",
    "        # Predict labels based on nearest prototype\n",
    "        predicted_labels = prototype_labels[nearest_indices]\n",
    "\n",
    "        # Calculate accuracy for this subset\n",
    "        accuracy = np.mean(predicted_labels == test_labels)\n",
    "        accuracy_scores.append(accuracy)\n",
    "    \n",
    "    accuracy_dict[j+1] = accuracy_scores"
   ]
  },
  {
   "cell_type": "code",
   "execution_count": 15,
   "metadata": {},
   "outputs": [
    {
     "data": {
      "text/plain": [
       "{0: [0.948, 0.9373, 0.8883],\n",
       " 1: [0.9494, 0.936, 0.8887],\n",
       " 2: [0.9487, 0.9375, 0.8806]}"
      ]
     },
     "execution_count": 15,
     "metadata": {},
     "output_type": "execute_result"
    }
   ],
   "source": [
    "accuracy_dict"
   ]
  },
  {
   "cell_type": "code",
   "execution_count": 16,
   "metadata": {},
   "outputs": [
    {
     "data": {
      "text/html": [
       "<div>\n",
       "<style scoped>\n",
       "    .dataframe tbody tr th:only-of-type {\n",
       "        vertical-align: middle;\n",
       "    }\n",
       "\n",
       "    .dataframe tbody tr th {\n",
       "        vertical-align: top;\n",
       "    }\n",
       "\n",
       "    .dataframe thead th {\n",
       "        text-align: right;\n",
       "    }\n",
       "</style>\n",
       "<table border=\"1\" class=\"dataframe\">\n",
       "  <thead>\n",
       "    <tr style=\"text-align: right;\">\n",
       "      <th></th>\n",
       "      <th>0</th>\n",
       "      <th>1</th>\n",
       "      <th>2</th>\n",
       "    </tr>\n",
       "  </thead>\n",
       "  <tbody>\n",
       "    <tr>\n",
       "      <th>0</th>\n",
       "      <td>0.9480</td>\n",
       "      <td>0.9494</td>\n",
       "      <td>0.9487</td>\n",
       "    </tr>\n",
       "    <tr>\n",
       "      <th>1</th>\n",
       "      <td>0.9373</td>\n",
       "      <td>0.9360</td>\n",
       "      <td>0.9375</td>\n",
       "    </tr>\n",
       "    <tr>\n",
       "      <th>2</th>\n",
       "      <td>0.8883</td>\n",
       "      <td>0.8887</td>\n",
       "      <td>0.8806</td>\n",
       "    </tr>\n",
       "  </tbody>\n",
       "</table>\n",
       "</div>"
      ],
      "text/plain": [
       "        0       1       2\n",
       "0  0.9480  0.9494  0.9487\n",
       "1  0.9373  0.9360  0.9375\n",
       "2  0.8883  0.8887  0.8806"
      ]
     },
     "execution_count": 16,
     "metadata": {},
     "output_type": "execute_result"
    }
   ],
   "source": [
    "accuracy_df = pd.DataFrame(accuracy_dict)\n",
    "accuracy_df"
   ]
  },
  {
   "cell_type": "code",
   "execution_count": 17,
   "metadata": {},
   "outputs": [
    {
     "data": {
      "text/plain": [
       "0    0.948700\n",
       "1    0.936933\n",
       "2    0.885867\n",
       "dtype: float64"
      ]
     },
     "execution_count": 17,
     "metadata": {},
     "output_type": "execute_result"
    }
   ],
   "source": [
    "accuracy_df.mean(axis=1)"
   ]
  },
  {
   "cell_type": "code",
   "execution_count": 19,
   "metadata": {},
   "outputs": [
    {
     "data": {
      "text/plain": [
       "0    0.000700\n",
       "1    0.000814\n",
       "2    0.004565\n",
       "dtype: float64"
      ]
     },
     "execution_count": 19,
     "metadata": {},
     "output_type": "execute_result"
    }
   ],
   "source": [
    "accuracy_df.std(axis=1)"
   ]
  },
  {
   "cell_type": "code",
   "execution_count": 23,
   "metadata": {},
   "outputs": [],
   "source": [
    "from scipy.stats import t"
   ]
  },
  {
   "cell_type": "code",
   "execution_count": 27,
   "metadata": {},
   "outputs": [
    {
     "data": {
      "text/plain": [
       "9.92484320091807"
      ]
     },
     "execution_count": 27,
     "metadata": {},
     "output_type": "execute_result"
    }
   ],
   "source": [
    "t.ppf(0.995, df = 3 - 1)"
   ]
  },
  {
   "cell_type": "code",
   "execution_count": 26,
   "metadata": {},
   "outputs": [
    {
     "data": {
      "text/plain": [
       "[0    0.946961\n",
       " 1    0.934910\n",
       " 2    0.874525\n",
       " dtype: float64,\n",
       " 0    0.950439\n",
       " 1    0.938957\n",
       " 2    0.897209\n",
       " dtype: float64]"
      ]
     },
     "execution_count": 26,
     "metadata": {},
     "output_type": "execute_result"
    }
   ],
   "source": [
    "[accuracy_df.mean(axis=1) - 4.303 * (accuracy_df.std(axis=1) / np.sqrt(3)), accuracy_df.mean(axis=1) + 4.303 * (accuracy_df.std(axis=1) / np.sqrt(3))]"
   ]
  },
  {
   "cell_type": "code",
   "execution_count": 29,
   "metadata": {},
   "outputs": [
    {
     "data": {
      "text/plain": [
       "[0    0.944688\n",
       " 1    0.932265\n",
       " 2    0.859698\n",
       " dtype: float64,\n",
       " 0    0.952712\n",
       " 1    0.941602\n",
       " 2    0.912036\n",
       " dtype: float64]"
      ]
     },
     "execution_count": 29,
     "metadata": {},
     "output_type": "execute_result"
    }
   ],
   "source": [
    "[accuracy_df.mean(axis=1) - 9.928 * (accuracy_df.std(axis=1) / np.sqrt(3)), accuracy_df.mean(axis=1) + 9.928 * (accuracy_df.std(axis=1) / np.sqrt(3))]"
   ]
  },
  {
   "cell_type": "code",
   "execution_count": 18,
   "metadata": {},
   "outputs": [
    {
     "data": {
      "image/png": "[encoded data removed]",
      "text/plain": [
       "<Figure size 640x480 with 1 Axes>"
      ]
     },
     "metadata": {},
     "output_type": "display_data"
    }
   ],
   "source": [
    "\n",
    "df = pd.DataFrame({\n",
    "    'Prototype': num_subsets,\n",
    "    'accuracy': accuracy_df.mean(axis=1)\n",
    "})\n",
    "sns.barplot(x='Prototype', y='accuracy', data = df)\n",
    "plt.title('1NN Random Prototype Sampling vs Accuracy')\n",
    "plt.show()"
   ]
  },
  {
   "cell_type": "markdown",
   "metadata": {},
   "source": [
    "# K Means Prototyping"
   ]
  },
  {
   "cell_type": "code",
   "execution_count": 17,
   "metadata": {},
   "outputs": [],
   "source": [
    "from sklearn.cluster import MiniBatchKMeans"
   ]
  },
  {
   "cell_type": "markdown",
   "metadata": {},
   "source": [
    "## K Means"
   ]
  },
  {
   "cell_type": "code",
   "execution_count": 18,
   "metadata": {},
   "outputs": [],
   "source": [
    "def run_kmeans(num_clusters):\n",
    "    kmeans = MiniBatchKMeans(n_clusters=num_clusters, init = 'random', batch_size=1000, random_state=42)\n",
    "    kmeans.fit(train_images_reshaped)\n",
    "    centroids = kmeans.cluster_centers_\n",
    "\n",
    "    labels = np.zeros(num_clusters, dtype=int)\n",
    "\n",
    "    for i in range(num_clusters):\n",
    "        cluster_incidies = np.where(kmeans.labels_ == i)[0]\n",
    "\n",
    "        if len(cluster_incidies) == 0:\n",
    "            labels[i] = -1\n",
    "            continue\n",
    "\n",
    "        cluster_labels = train_labels[cluster_incidies]\n",
    "        labels[i] = np.bincount(cluster_labels).argmax()\n",
    "    return centroids, labels"
   ]
  },
  {
   "cell_type": "code",
   "execution_count": 21,
   "metadata": {},
   "outputs": [],
   "source": [
    "accuracy_scores = []\n",
    "\n",
    "for k in num_subsets:\n",
    "\n",
    "    # Efficient subset selection using numpy random choice\n",
    "    knn_centroids, knn_labels = run_kmeans(k)\n",
    "\n",
    "    # Compute distances between all test images and prototype images\n",
    "    distances = cdist(test_images_reshaped, knn_centroids)\n",
    "\n",
    "    # Find the index of the nearest prototype for each test image\n",
    "    nearest_indices = np.argmin(distances, axis=1)\n",
    "\n",
    "    # Predict labels based on nearest prototype\n",
    "    predicted_labels = knn_labels[nearest_indices]\n",
    "\n",
    "    # Calculate accuracy for this subset\n",
    "    accuracy = np.mean(predicted_labels == test_labels)\n",
    "    accuracy_scores.append(accuracy)"
   ]
  },
  {
   "cell_type": "code",
   "execution_count": 22,
   "metadata": {},
   "outputs": [
    {
     "data": {
      "text/plain": [
       "array([0.9592, 0.9542, 0.9372])"
      ]
     },
     "execution_count": 22,
     "metadata": {},
     "output_type": "execute_result"
    }
   ],
   "source": [
    "accuracy_scores = np.array(accuracy_scores)\n",
    "accuracy_scores"
   ]
  },
  {
   "cell_type": "code",
   "execution_count": 23,
   "metadata": {},
   "outputs": [
    {
     "data": {
      "image/png": "[encoded data removed]",
      "text/plain": [
       "<Figure size 640x480 with 1 Axes>"
      ]
     },
     "metadata": {},
     "output_type": "display_data"
    }
   ],
   "source": [
    "df = pd.DataFrame({\"Prototype\": num_subsets, \"accuracy\": accuracy_scores})\n",
    "sns.barplot(x=\"Prototype\", y=\"accuracy\", data=df)\n",
    "plt.title(\"K Means Prototyping vs Accuracy\")\n",
    "plt.show()"
   ]
  },
  {
   "cell_type": "markdown",
   "metadata": {},
   "source": [
    "## K Means++"
   ]
  },
  {
   "cell_type": "code",
   "execution_count": 24,
   "metadata": {},
   "outputs": [],
   "source": [
    "def run_kmeans_plus(num_clusters):\n",
    "    kmeans = MiniBatchKMeans(n_clusters=num_clusters, init = 'k-means++', batch_size=1000, random_state=42)\n",
    "    kmeans.fit(train_images_reshaped)\n",
    "    centroids = kmeans.cluster_centers_\n",
    "\n",
    "    labels = np.zeros(num_clusters, dtype=int)\n",
    "\n",
    "    for i in range(num_clusters):\n",
    "        cluster_incidies = np.where(kmeans.labels_ == i)[0]\n",
    "\n",
    "        if len(cluster_incidies) == 0:\n",
    "            labels[i] = -1\n",
    "            continue\n",
    "\n",
    "        cluster_labels = train_labels[cluster_incidies]\n",
    "        labels[i] = np.bincount(cluster_labels).argmax()\n",
    "    return centroids, labels"
   ]
  },
  {
   "cell_type": "code",
   "execution_count": 25,
   "metadata": {},
   "outputs": [],
   "source": [
    "accuracy_scores = []\n",
    "\n",
    "for k in num_subsets:\n",
    "\n",
    "    # Efficient subset selection using numpy random choice\n",
    "    knn_centroids, knn_labels = run_kmeans_plus(k)\n",
    "\n",
    "    # Compute distances between all test images and prototype images\n",
    "    distances = cdist(test_images_reshaped, knn_centroids)\n",
    "\n",
    "    # Find the index of the nearest prototype for each test image\n",
    "    nearest_indices = np.argmin(distances, axis=1)\n",
    "\n",
    "    # Predict labels based on nearest prototype\n",
    "    predicted_labels = knn_labels[nearest_indices]\n",
    "\n",
    "    # Calculate accuracy for this subset\n",
    "    accuracy = np.mean(predicted_labels == test_labels)\n",
    "    accuracy_scores.append(accuracy)"
   ]
  },
  {
   "cell_type": "code",
   "execution_count": 26,
   "metadata": {},
   "outputs": [
    {
     "data": {
      "text/plain": [
       "array([0.9555, 0.9552, 0.9368])"
      ]
     },
     "execution_count": 26,
     "metadata": {},
     "output_type": "execute_result"
    }
   ],
   "source": [
    "accuracy_scores = np.array(accuracy_scores)\n",
    "accuracy_scores"
   ]
  },
  {
   "cell_type": "code",
   "execution_count": 27,
   "metadata": {},
   "outputs": [
    {
     "data": {
      "image/png": "[encoded data removed]",
      "text/plain": [
       "<Figure size 640x480 with 1 Axes>"
      ]
     },
     "metadata": {},
     "output_type": "display_data"
    }
   ],
   "source": [
    "df = pd.DataFrame({\"Prototype\": num_subsets, \"accuracy\": accuracy_scores})\n",
    "sns.barplot(x=\"Prototype\", y=\"accuracy\", data=df)\n",
    "plt.title(\"K Means++ Prototyping vs Accuracy\")\n",
    "plt.show()"
   ]
  },
  {
   "cell_type": "markdown",
   "metadata": {},
   "source": [
    "## K Means + Sampling"
   ]
  },
  {
   "cell_type": "code",
   "execution_count": 28,
   "metadata": {},
   "outputs": [],
   "source": [
    "samp_size = np.array([45000, 30000, 15000])"
   ]
  },
  {
   "cell_type": "markdown",
   "metadata": {},
   "source": [
    "## K Means"
   ]
  },
  {
   "cell_type": "code",
   "execution_count": 29,
   "metadata": {},
   "outputs": [],
   "source": [
    "def run_kmeans_samp(samp_size, num_clusters):\n",
    "    train_subset = np.random.choice(train_images_reshaped.shape[0], size=samp_size, replace=False)\n",
    "    prototype_images = train_images_reshaped[train_subset]\n",
    "    prototype_labels = train_labels[train_subset]\n",
    "\n",
    "    kmeans = MiniBatchKMeans(n_clusters=num_clusters, init = 'random', batch_size=1000, random_state=42)\n",
    "    kmeans.fit(prototype_images)\n",
    "    centroids = kmeans.cluster_centers_\n",
    "\n",
    "    labels = np.zeros(num_clusters, dtype=int)\n",
    "\n",
    "    for i in range(num_clusters):\n",
    "        cluster_incidies = np.where(kmeans.labels_ == i)[0]\n",
    "\n",
    "        if len(cluster_incidies) == 0:\n",
    "            labels[i] = -1\n",
    "            continue\n",
    "\n",
    "        cluster_labels = prototype_labels[cluster_incidies]\n",
    "        labels[i] = np.bincount(cluster_labels).argmax()\n",
    "    return centroids, labels"
   ]
  },
  {
   "cell_type": "code",
   "execution_count": 30,
   "metadata": {},
   "outputs": [],
   "source": [
    "run_dict_basic = {}\n",
    "\n",
    "for i in range(3):\n",
    "    accuracy_dict = {}\n",
    "\n",
    "    for j in samp_size:\n",
    "\n",
    "        accuracy_scores = []\n",
    "\n",
    "        for k in num_subsets:\n",
    "\n",
    "            # Efficient subset selection using numpy random choice\n",
    "            knn_centroids, knn_labels = run_kmeans_samp(j, k)\n",
    "\n",
    "            # Compute distances between all test images and prototype images\n",
    "            distances = cdist(test_images_reshaped, knn_centroids)\n",
    "\n",
    "            # Find the index of the nearest prototype for each test image\n",
    "            nearest_indices = np.argmin(distances, axis=1)\n",
    "\n",
    "            # Predict labels based on nearest prototype\n",
    "            predicted_labels = knn_labels[nearest_indices]\n",
    "\n",
    "            # Calculate accuracy for this subset\n",
    "            accuracy = np.mean(predicted_labels == test_labels)\n",
    "            accuracy_scores.append(accuracy)\n",
    "        \n",
    "        accuracy_dict[j] = accuracy_scores\n",
    "    run_dict_basic[i+1] = accuracy_dict\n"
   ]
  },
  {
   "cell_type": "code",
   "execution_count": 31,
   "metadata": {},
   "outputs": [
    {
     "data": {
      "text/plain": [
       "{1: {45000: [0.9573, 0.9489, 0.9343],\n",
       "  30000: [0.9436, 0.9509, 0.9328],\n",
       "  15000: [0.9304, 0.9392, 0.9205]},\n",
       " 2: {45000: [0.9597, 0.9504, 0.9352],\n",
       "  30000: [0.9521, 0.95, 0.9265],\n",
       "  15000: [0.9331, 0.9414, 0.9225]},\n",
       " 3: {45000: [0.954, 0.9521, 0.9316],\n",
       "  30000: [0.9439, 0.947, 0.93],\n",
       "  15000: [0.9368, 0.9369, 0.9141]}}"
      ]
     },
     "execution_count": 31,
     "metadata": {},
     "output_type": "execute_result"
    }
   ],
   "source": [
    "run_dict_basic"
   ]
  },
  {
   "cell_type": "code",
   "execution_count": 48,
   "metadata": {},
   "outputs": [
    {
     "data": {
      "text/html": [
       "<div>\n",
       "<style scoped>\n",
       "    .dataframe tbody tr th:only-of-type {\n",
       "        vertical-align: middle;\n",
       "    }\n",
       "\n",
       "    .dataframe tbody tr th {\n",
       "        vertical-align: top;\n",
       "    }\n",
       "\n",
       "    .dataframe thead th {\n",
       "        text-align: right;\n",
       "    }\n",
       "</style>\n",
       "<table border=\"1\" class=\"dataframe\">\n",
       "  <thead>\n",
       "    <tr style=\"text-align: right;\">\n",
       "      <th></th>\n",
       "      <th>samp_size</th>\n",
       "      <th>10000</th>\n",
       "      <th>5000</th>\n",
       "      <th>1000</th>\n",
       "    </tr>\n",
       "  </thead>\n",
       "  <tbody>\n",
       "    <tr>\n",
       "      <th>0</th>\n",
       "      <td>45000</td>\n",
       "      <td>0.9573</td>\n",
       "      <td>0.9489</td>\n",
       "      <td>0.9343</td>\n",
       "    </tr>\n",
       "    <tr>\n",
       "      <th>1</th>\n",
       "      <td>30000</td>\n",
       "      <td>0.9436</td>\n",
       "      <td>0.9509</td>\n",
       "      <td>0.9328</td>\n",
       "    </tr>\n",
       "    <tr>\n",
       "      <th>2</th>\n",
       "      <td>15000</td>\n",
       "      <td>0.9304</td>\n",
       "      <td>0.9392</td>\n",
       "      <td>0.9205</td>\n",
       "    </tr>\n",
       "    <tr>\n",
       "      <th>3</th>\n",
       "      <td>45000</td>\n",
       "      <td>0.9597</td>\n",
       "      <td>0.9504</td>\n",
       "      <td>0.9352</td>\n",
       "    </tr>\n",
       "    <tr>\n",
       "      <th>4</th>\n",
       "      <td>30000</td>\n",
       "      <td>0.9521</td>\n",
       "      <td>0.9500</td>\n",
       "      <td>0.9265</td>\n",
       "    </tr>\n",
       "    <tr>\n",
       "      <th>5</th>\n",
       "      <td>15000</td>\n",
       "      <td>0.9331</td>\n",
       "      <td>0.9414</td>\n",
       "      <td>0.9225</td>\n",
       "    </tr>\n",
       "    <tr>\n",
       "      <th>6</th>\n",
       "      <td>45000</td>\n",
       "      <td>0.9540</td>\n",
       "      <td>0.9521</td>\n",
       "      <td>0.9316</td>\n",
       "    </tr>\n",
       "    <tr>\n",
       "      <th>7</th>\n",
       "      <td>30000</td>\n",
       "      <td>0.9439</td>\n",
       "      <td>0.9470</td>\n",
       "      <td>0.9300</td>\n",
       "    </tr>\n",
       "    <tr>\n",
       "      <th>8</th>\n",
       "      <td>15000</td>\n",
       "      <td>0.9368</td>\n",
       "      <td>0.9369</td>\n",
       "      <td>0.9141</td>\n",
       "    </tr>\n",
       "  </tbody>\n",
       "</table>\n",
       "</div>"
      ],
      "text/plain": [
       "   samp_size   10000    5000    1000\n",
       "0      45000  0.9573  0.9489  0.9343\n",
       "1      30000  0.9436  0.9509  0.9328\n",
       "2      15000  0.9304  0.9392  0.9205\n",
       "3      45000  0.9597  0.9504  0.9352\n",
       "4      30000  0.9521  0.9500  0.9265\n",
       "5      15000  0.9331  0.9414  0.9225\n",
       "6      45000  0.9540  0.9521  0.9316\n",
       "7      30000  0.9439  0.9470  0.9300\n",
       "8      15000  0.9368  0.9369  0.9141"
      ]
     },
     "execution_count": 48,
     "metadata": {},
     "output_type": "execute_result"
    }
   ],
   "source": [
    "ss_basic = pd.DataFrame()\n",
    "for i in run_dict_basic:\n",
    "    temp_df = pd.DataFrame.from_dict(run_dict_basic[i], orient='index')\n",
    "    ss_basic = pd.concat([ss_basic, temp_df])\n",
    "ss_basic.columns = num_subsets\n",
    "ss_basic = ss_basic.reset_index().rename(columns={'index': 'samp_size'})\n",
    "ss_basic"
   ]
  },
  {
   "cell_type": "markdown",
   "metadata": {},
   "source": [
    "## K Means++"
   ]
  },
  {
   "cell_type": "code",
   "execution_count": 32,
   "metadata": {},
   "outputs": [],
   "source": [
    "def run_kmeans_plus_samp(samp_size, num_clusters):\n",
    "    train_subset = np.random.choice(train_images_reshaped.shape[0], size=samp_size, replace=False)\n",
    "    prototype_images = train_images_reshaped[train_subset]\n",
    "    prototype_labels = train_labels[train_subset]\n",
    "\n",
    "    kmeans = MiniBatchKMeans(n_clusters=num_clusters, init = 'k-means++', batch_size=1000, random_state=42)\n",
    "    kmeans.fit(prototype_images)\n",
    "    centroids = kmeans.cluster_centers_\n",
    "\n",
    "    labels = np.zeros(num_clusters, dtype=int)\n",
    "\n",
    "    for i in range(num_clusters):\n",
    "        cluster_incidies = np.where(kmeans.labels_ == i)[0]\n",
    "\n",
    "        if len(cluster_incidies) == 0:\n",
    "            labels[i] = -1\n",
    "            continue\n",
    "\n",
    "        cluster_labels = prototype_labels[cluster_incidies]\n",
    "        labels[i] = np.bincount(cluster_labels).argmax()\n",
    "    return centroids, labels"
   ]
  },
  {
   "cell_type": "code",
   "execution_count": 33,
   "metadata": {},
   "outputs": [],
   "source": [
    "run_dict_plus ={}\n",
    "\n",
    "for i in range(3):\n",
    "    accuracy_dict = {}\n",
    "\n",
    "    for j in samp_size:\n",
    "\n",
    "        accuracy_scores = []\n",
    "\n",
    "        for k in num_subsets:\n",
    "\n",
    "            # Efficient subset selection using numpy random choice\n",
    "            knn_centroids, knn_labels = run_kmeans_plus_samp(j, k)\n",
    "\n",
    "            # Compute distances between all test images and prototype images\n",
    "            distances = cdist(test_images_reshaped, knn_centroids)\n",
    "\n",
    "            # Find the index of the nearest prototype for each test image\n",
    "            nearest_indices = np.argmin(distances, axis=1)\n",
    "\n",
    "            # Predict labels based on nearest prototype\n",
    "            predicted_labels = knn_labels[nearest_indices]\n",
    "\n",
    "            # Calculate accuracy for this subset\n",
    "            accuracy = np.mean(predicted_labels == test_labels)\n",
    "            accuracy_scores.append(accuracy)\n",
    "        \n",
    "        accuracy_dict[j] = accuracy_scores\n",
    "    \n",
    "    run_dict_plus[i+1] = accuracy_dict\n"
   ]
  },
  {
   "cell_type": "code",
   "execution_count": 34,
   "metadata": {},
   "outputs": [
    {
     "data": {
      "text/plain": [
       "{1: {45000: [0.9563, 0.9515, 0.9329],\n",
       "  30000: [0.9467, 0.9464, 0.9301],\n",
       "  15000: [0.9385, 0.9411, 0.9217]},\n",
       " 2: {45000: [0.9545, 0.9479, 0.9356],\n",
       "  30000: [0.9563, 0.9499, 0.9249],\n",
       "  15000: [0.9392, 0.9417, 0.9167]},\n",
       " 3: {45000: [0.959, 0.9515, 0.937],\n",
       "  30000: [0.949, 0.9463, 0.9259],\n",
       "  15000: [0.939, 0.9433, 0.9197]}}"
      ]
     },
     "execution_count": 34,
     "metadata": {},
     "output_type": "execute_result"
    }
   ],
   "source": [
    "run_dict_plus"
   ]
  },
  {
   "cell_type": "code",
   "execution_count": 49,
   "metadata": {},
   "outputs": [
    {
     "data": {
      "text/html": [
       "<div>\n",
       "<style scoped>\n",
       "    .dataframe tbody tr th:only-of-type {\n",
       "        vertical-align: middle;\n",
       "    }\n",
       "\n",
       "    .dataframe tbody tr th {\n",
       "        vertical-align: top;\n",
       "    }\n",
       "\n",
       "    .dataframe thead th {\n",
       "        text-align: right;\n",
       "    }\n",
       "</style>\n",
       "<table border=\"1\" class=\"dataframe\">\n",
       "  <thead>\n",
       "    <tr style=\"text-align: right;\">\n",
       "      <th></th>\n",
       "      <th>samp_size</th>\n",
       "      <th>10000</th>\n",
       "      <th>5000</th>\n",
       "      <th>1000</th>\n",
       "    </tr>\n",
       "  </thead>\n",
       "  <tbody>\n",
       "    <tr>\n",
       "      <th>0</th>\n",
       "      <td>45000</td>\n",
       "      <td>0.9563</td>\n",
       "      <td>0.9515</td>\n",
       "      <td>0.9329</td>\n",
       "    </tr>\n",
       "    <tr>\n",
       "      <th>1</th>\n",
       "      <td>30000</td>\n",
       "      <td>0.9467</td>\n",
       "      <td>0.9464</td>\n",
       "      <td>0.9301</td>\n",
       "    </tr>\n",
       "    <tr>\n",
       "      <th>2</th>\n",
       "      <td>15000</td>\n",
       "      <td>0.9385</td>\n",
       "      <td>0.9411</td>\n",
       "      <td>0.9217</td>\n",
       "    </tr>\n",
       "    <tr>\n",
       "      <th>3</th>\n",
       "      <td>45000</td>\n",
       "      <td>0.9545</td>\n",
       "      <td>0.9479</td>\n",
       "      <td>0.9356</td>\n",
       "    </tr>\n",
       "    <tr>\n",
       "      <th>4</th>\n",
       "      <td>30000</td>\n",
       "      <td>0.9563</td>\n",
       "      <td>0.9499</td>\n",
       "      <td>0.9249</td>\n",
       "    </tr>\n",
       "    <tr>\n",
       "      <th>5</th>\n",
       "      <td>15000</td>\n",
       "      <td>0.9392</td>\n",
       "      <td>0.9417</td>\n",
       "      <td>0.9167</td>\n",
       "    </tr>\n",
       "    <tr>\n",
       "      <th>6</th>\n",
       "      <td>45000</td>\n",
       "      <td>0.9590</td>\n",
       "      <td>0.9515</td>\n",
       "      <td>0.9370</td>\n",
       "    </tr>\n",
       "    <tr>\n",
       "      <th>7</th>\n",
       "      <td>30000</td>\n",
       "      <td>0.9490</td>\n",
       "      <td>0.9463</td>\n",
       "      <td>0.9259</td>\n",
       "    </tr>\n",
       "    <tr>\n",
       "      <th>8</th>\n",
       "      <td>15000</td>\n",
       "      <td>0.9390</td>\n",
       "      <td>0.9433</td>\n",
       "      <td>0.9197</td>\n",
       "    </tr>\n",
       "  </tbody>\n",
       "</table>\n",
       "</div>"
      ],
      "text/plain": [
       "   samp_size   10000    5000    1000\n",
       "0      45000  0.9563  0.9515  0.9329\n",
       "1      30000  0.9467  0.9464  0.9301\n",
       "2      15000  0.9385  0.9411  0.9217\n",
       "3      45000  0.9545  0.9479  0.9356\n",
       "4      30000  0.9563  0.9499  0.9249\n",
       "5      15000  0.9392  0.9417  0.9167\n",
       "6      45000  0.9590  0.9515  0.9370\n",
       "7      30000  0.9490  0.9463  0.9259\n",
       "8      15000  0.9390  0.9433  0.9197"
      ]
     },
     "execution_count": 49,
     "metadata": {},
     "output_type": "execute_result"
    }
   ],
   "source": [
    "ss_plus = pd.DataFrame()\n",
    "for i in run_dict_plus:\n",
    "    temp_df = pd.DataFrame.from_dict(run_dict_plus[i], orient='index')\n",
    "    ss_plus = pd.concat([ss_plus, temp_df])\n",
    "ss_plus.columns = num_subsets\n",
    "ss_plus = ss_plus.reset_index().rename(columns={'index': 'samp_size'})\n",
    "ss_plus"
   ]
  }
 ],
 "metadata": {
  "kernelspec": {
   "display_name": "base",
   "language": "python",
   "name": "python3"
  },
  "language_info": {
   "codemirror_mode": {
    "name": "ipython",
    "version": 3
   },
   "file_extension": ".py",
   "mimetype": "text/x-python",
   "name": "python",
   "nbconvert_exporter": "python",
   "pygments_lexer": "ipython3",
   "version": "3.12.7"
  }
 },
 "nbformat": 4,
 "nbformat_minor": 2
}
